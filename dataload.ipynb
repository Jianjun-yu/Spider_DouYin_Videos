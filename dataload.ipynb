{
 "cells": [
  {
   "cell_type": "code",
   "execution_count": 22,
   "id": "8e75f232-d2fa-4ac5-9a64-586f59776d1b",
   "metadata": {},
   "outputs": [],
   "source": [
    "import pandas as pd\n",
    "import matplotlib.pyplot as plt\n",
    "import seaborn as sns"
   ]
  },
  {
   "cell_type": "code",
   "execution_count": 24,
   "id": "c72571e2-0602-44e4-9894-da506b0ed560",
   "metadata": {},
   "outputs": [],
   "source": [
    "df = pd.read_csv('e:/git/Spider_DouYin_Videos/jungong.csv')"
   ]
  },
  {
   "cell_type": "code",
   "execution_count": 26,
   "id": "b79cb43a-26c2-4e36-abaf-6c070e13feb1",
   "metadata": {},
   "outputs": [
    {
     "data": {
      "text/plain": [
       "321062"
      ]
     },
     "execution_count": 26,
     "metadata": {},
     "output_type": "execute_result"
    }
   ],
   "source": [
    "inter = 500\n",
    "df[df['评论数']<=inter]['评论数'].sum() + inter* df[df['评论数']>inter]['评论数'].count()"
   ]
  },
  {
   "cell_type": "code",
   "execution_count": 14,
   "id": "6c2eb442-9a76-464e-aa06-1b5f953e8caa",
   "metadata": {},
   "outputs": [
    {
     "data": {
      "image/png": "[encoded data removed]",
      "text/plain": [
       "<Figure size 1000x600 with 1 Axes>"
      ]
     },
     "metadata": {},
     "output_type": "display_data"
    }
   ],
   "source": [
    "plt.figure(figsize=(10, 6))\n",
    "plt.hist(df[df['评论数']>1000]['评论数'], bins=10, color='skyblue', edgecolor='black')\n",
    "plt.title('Distribution of Comments Count')\n",
    "plt.xlabel('Comments Count')\n",
    "plt.ylabel('Frequency')\n",
    "plt.show()"
   ]
  },
  {
   "cell_type": "code",
   "execution_count": 8,
   "id": "1700d03b-d5c2-4a61-bcd8-f1b134f89e6d",
   "metadata": {},
   "outputs": [],
   "source": [
    "df = pd.read_csv('e:/git/Spider_DouYin_Videos/result_folder/cctvmilitary/cctvmilitary.csv')"
   ]
  },
  {
   "cell_type": "code",
   "execution_count": 15,
   "id": "0cf3a129-73c4-4bb3-b85a-0f1e7849972f",
   "metadata": {},
   "outputs": [
    {
     "data": {
      "text/html": [
       "<div>\n",
       "<style scoped>\n",
       "    .dataframe tbody tr th:only-of-type {\n",
       "        vertical-align: middle;\n",
       "    }\n",
       "\n",
       "    .dataframe tbody tr th {\n",
       "        vertical-align: top;\n",
       "    }\n",
       "\n",
       "    .dataframe thead th {\n",
       "        text-align: right;\n",
       "    }\n",
       "</style>\n",
       "<table border=\"1\" class=\"dataframe\">\n",
       "  <thead>\n",
       "    <tr style=\"text-align: right;\">\n",
       "      <th></th>\n",
       "      <th>id</th>\n",
       "      <th>视频链接</th>\n",
       "      <th>是否为视频</th>\n",
       "      <th>标题</th>\n",
       "      <th>点赞数</th>\n",
       "      <th>评论数</th>\n",
       "      <th>收藏数</th>\n",
       "      <th>分享数</th>\n",
       "      <th>视频封面</th>\n",
       "      <th>发布日期</th>\n",
       "      <th>更新日期</th>\n",
       "    </tr>\n",
       "  </thead>\n",
       "  <tbody>\n",
       "    <tr>\n",
       "      <th>84</th>\n",
       "      <td>7381373350095883583</td>\n",
       "      <td>http://v5-hl-tx-ov.douyinvod.com/d28f7f81e7845...</td>\n",
       "      <td>True</td>\n",
       "      <td>真的，没加特效</td>\n",
       "      <td>4009166</td>\n",
       "      <td>482020</td>\n",
       "      <td>150760</td>\n",
       "      <td>946920</td>\n",
       "      <td>https://p3-pc-sign.douyinpic.com/tos-cn-i-dy/b...</td>\n",
       "      <td>2024-06-18 04:30:00</td>\n",
       "      <td>2024-07-05 10:58:30</td>\n",
       "    </tr>\n",
       "    <tr>\n",
       "      <th>2020</th>\n",
       "      <td>7101144555805756709</td>\n",
       "      <td>http://v5-dy-o-abtest.zjcdn.com/feb6c36c68b16a...</td>\n",
       "      <td>True</td>\n",
       "      <td>日本叫嚣将中国最核心军事机构列入打击目标（来源：中国网 编辑：东升）</td>\n",
       "      <td>1144564</td>\n",
       "      <td>403590</td>\n",
       "      <td>36970</td>\n",
       "      <td>43008</td>\n",
       "      <td>https://p3-sign.douyinpic.com/tos-cn-i-dy/6602...</td>\n",
       "      <td>2022-05-23 22:47:52</td>\n",
       "      <td>2024-07-05 10:58:30</td>\n",
       "    </tr>\n",
       "    <tr>\n",
       "      <th>2074</th>\n",
       "      <td>7095694791714835748</td>\n",
       "      <td>http://v5-dy-o-abtest.zjcdn.com/c7e0e151017a3a...</td>\n",
       "      <td>True</td>\n",
       "      <td>听说这是全军伙食“天花板”？看完飞行员和陆军，再来看看潜艇兵靠岸时都吃啥#食堂 #炊事班 #...</td>\n",
       "      <td>3856312</td>\n",
       "      <td>464747</td>\n",
       "      <td>140699</td>\n",
       "      <td>635301</td>\n",
       "      <td>https://p3-sign.douyinpic.com/tos-cn-i-dy/4985...</td>\n",
       "      <td>2022-05-09 06:20:01</td>\n",
       "      <td>2024-07-05 10:58:30</td>\n",
       "    </tr>\n",
       "    <tr>\n",
       "      <th>2090</th>\n",
       "      <td>7094209964050337038</td>\n",
       "      <td>http://v5-dy-o-abtest.zjcdn.com/eced7a82ac353d...</td>\n",
       "      <td>True</td>\n",
       "      <td>香香香！这样简单的#工作餐 给我来一份！#食堂#炊事班 #军营伙食连续剧（作者：凯还 方武 ...</td>\n",
       "      <td>3700144</td>\n",
       "      <td>526396</td>\n",
       "      <td>120200</td>\n",
       "      <td>223666</td>\n",
       "      <td>https://p3-sign.douyinpic.com/tos-cn-i-dy/47f6...</td>\n",
       "      <td>2022-05-05 06:18:13</td>\n",
       "      <td>2024-07-05 10:58:30</td>\n",
       "    </tr>\n",
       "  </tbody>\n",
       "</table>\n",
       "</div>"
      ],
      "text/plain": [
       "                       id                                               视频链接  \\\n",
       "84    7381373350095883583  http://v5-hl-tx-ov.douyinvod.com/d28f7f81e7845...   \n",
       "2020  7101144555805756709  http://v5-dy-o-abtest.zjcdn.com/feb6c36c68b16a...   \n",
       "2074  7095694791714835748  http://v5-dy-o-abtest.zjcdn.com/c7e0e151017a3a...   \n",
       "2090  7094209964050337038  http://v5-dy-o-abtest.zjcdn.com/eced7a82ac353d...   \n",
       "\n",
       "      是否为视频                                                 标题      点赞数  \\\n",
       "84     True                                            真的，没加特效  4009166   \n",
       "2020   True                 日本叫嚣将中国最核心军事机构列入打击目标（来源：中国网 编辑：东升）  1144564   \n",
       "2074   True  听说这是全军伙食“天花板”？看完飞行员和陆军，再来看看潜艇兵靠岸时都吃啥#食堂 #炊事班 #...  3856312   \n",
       "2090   True  香香香！这样简单的#工作餐 给我来一份！#食堂#炊事班 #军营伙食连续剧（作者：凯还 方武 ...  3700144   \n",
       "\n",
       "         评论数     收藏数     分享数  \\\n",
       "84    482020  150760  946920   \n",
       "2020  403590   36970   43008   \n",
       "2074  464747  140699  635301   \n",
       "2090  526396  120200  223666   \n",
       "\n",
       "                                                   视频封面                 发布日期  \\\n",
       "84    https://p3-pc-sign.douyinpic.com/tos-cn-i-dy/b...  2024-06-18 04:30:00   \n",
       "2020  https://p3-sign.douyinpic.com/tos-cn-i-dy/6602...  2022-05-23 22:47:52   \n",
       "2074  https://p3-sign.douyinpic.com/tos-cn-i-dy/4985...  2022-05-09 06:20:01   \n",
       "2090  https://p3-sign.douyinpic.com/tos-cn-i-dy/47f6...  2022-05-05 06:18:13   \n",
       "\n",
       "                     更新日期  \n",
       "84    2024-07-05 10:58:30  \n",
       "2020  2024-07-05 10:58:30  \n",
       "2074  2024-07-05 10:58:30  \n",
       "2090  2024-07-05 10:58:30  "
      ]
     },
     "execution_count": 15,
     "metadata": {},
     "output_type": "execute_result"
    }
   ],
   "source": [
    "df[df['评论数']>400000]"
   ]
  },
  {
   "cell_type": "code",
   "execution_count": null,
   "id": "edd1a68e-ca9a-443b-b111-7c28e5d22812",
   "metadata": {},
   "outputs": [],
   "source": []
  }
 ],
 "metadata": {
  "kernelspec": {
   "display_name": "Python 3 (ipykernel)",
   "language": "python",
   "name": "python3"
  },
  "language_info": {
   "codemirror_mode": {
    "name": "ipython",
    "version": 3
   },
   "file_extension": ".py",
   "mimetype": "text/x-python",
   "name": "python",
   "nbconvert_exporter": "python",
   "pygments_lexer": "ipython3",
   "version": "3.12.3"
  }
 },
 "nbformat": 4,
 "nbformat_minor": 5
}
