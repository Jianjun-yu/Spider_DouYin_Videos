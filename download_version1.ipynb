{
 "cells": [
  {
   "cell_type": "code",
   "execution_count": 1,
   "id": "d720be4a-9044-486b-899e-e409a83f7ea2",
   "metadata": {
    "tags": []
   },
   "outputs": [],
   "source": [
    "import json\n",
    "import requests\n",
    "import time\n",
    "import os\n",
    "import urllib.request\n",
    "import argparse\n",
    "import pandas as pd\n",
    "from tqdm import tqdm\n",
    "from tools.util import get_current_time_format, generate_url_with_xbs, sleep_random\n",
    "#从config中，读取视频发布者信息。update the information in config.py when download new account\n",
    "from config import IS_SAVE, SAVE_FOLDER, USER_SEC_UID, IS_WRITE_TO_CSV, LOGIN_COOKIE, CSV_FILE_NAME, ACCOUNT_NAME\n",
    "import pure_downloader as downloader\n",
    "import sys\n"
   ]
  },
  {
   "cell_type": "code",
   "execution_count": 2,
   "id": "1de3827c-01fe-4f2a-9010-7ff6c8d72e81",
   "metadata": {
    "tags": []
   },
   "outputs": [],
   "source": [
    "class DouYinUtil(object):\n",
    "\n",
    "    def __init__(self, sec_uid: str):\n",
    "        \"\"\"\n",
    "        :param sec_uid: 抖音id\n",
    "        \"\"\"\n",
    "        self.sec_uid = sec_uid\n",
    "        self.is_save = IS_SAVE\n",
    "        self.save_folder = SAVE_FOLDER\n",
    "        self.is_write_to_csv = IS_WRITE_TO_CSV\n",
    "        self.csv_name = CSV_FILE_NAME\n",
    "        self.video_api_url = ''\n",
    "        self.account_name = ACCOUNT_NAME\n",
    "        self.api_headers = {\n",
    "            'User-Agent': 'Mozilla/5.0 (Windows NT 10.0; Win64; x64) AppleWebKit/537.36 (KHTML, like Gecko) Chrome/115.0.0.0 Safari/537.36',\n",
    "            'Referer': 'https://www.douyin.com/',\n",
    "            'Cookie': LOGIN_COOKIE\n",
    "        }\n",
    "        self.cursor = 0\n",
    "        self.videos_list = []  # 视频列表id\n",
    "        self.video_info_list = []\n",
    "        self.video_info_dict = {}\n",
    "        self.stop_flag = False  # 默认不停止\n",
    "\n",
    "    def get_user_video_info(self, url: str):\n",
    "        res = requests.get(url, headers=self.api_headers)\n",
    "        res.encoding = 'utf-8'\n",
    "        res_text = res.text\n",
    "        return json.loads(res_text)\n",
    "\n",
    "    def get_all_videos(self):\n",
    "        \"\"\"\n",
    "        获取所有的视频\n",
    "        :return:\n",
    "        \"\"\"\n",
    "        while not self.stop_flag:\n",
    "            self.video_api_url = f'https://www.douyin.com/aweme/v1/web/aweme/post/?aid=6383&sec_user_id={self.sec_uid}&count=35&max_cursor={self.cursor}&cookie_enabled=true&platform=PC&downlink=10'\n",
    "            xbs = generate_url_with_xbs(self.video_api_url, self.api_headers.get('User-Agent'))\n",
    "            user_video_url = self.video_api_url + '&X-Bogus=' + xbs\n",
    "            user_info = self.get_user_video_info(user_video_url)\n",
    "            aweme_list = user_info['aweme_list']\n",
    "            for aweme_info in aweme_list:\n",
    "                self.video_info_list.append(aweme_info)\n",
    "                self.video_info_dict.setdefault(aweme_info['aweme_id'], aweme_info)\n",
    "                self.videos_list.append(aweme_info['aweme_id'])\n",
    "            if int(user_info['has_more']) == 0:\n",
    "                self.stop_flag = True\n",
    "            else:\n",
    "                self.cursor = user_info['max_cursor']\n",
    "                #self.stop_flag = True\n",
    "            sleep_random()\n",
    "        return self.videos_list\n",
    "\n",
    "    #use this download videos if videos are more than 200\n",
    "    def get_all_videos_withdownload(self,restart,total_left):\n",
    "        \"\"\"\n",
    "        获取所有的视频\n",
    "        :return:\n",
    "        \"\"\"\n",
    "        auto_increase_key = 0\n",
    "        pbar = tqdm(total=total_left)\n",
    "        while not self.stop_flag:\n",
    "            self.video_api_url = f'https://www.douyin.com/aweme/v1/web/aweme/post/?aid=6383&sec_user_id={self.sec_uid}&count=35&max_cursor={self.cursor}&cookie_enabled=true&platform=PC&downlink=10'\n",
    "            xbs = generate_url_with_xbs(self.video_api_url, self.api_headers.get('User-Agent'))\n",
    "            user_video_url = self.video_api_url + '&X-Bogus=' + xbs\n",
    "            #每次请求前将进度储存在log中方便断续重连\n",
    "            with open('log.txt', 'w') as file:\n",
    "                 file.write(f\"{auto_increase_key}\\n\")\n",
    "            user_info = self.get_user_video_info(user_video_url)\n",
    "            aweme_list = user_info['aweme_list']\n",
    "            #aweme_info 每一条视频的信息\n",
    "            for aweme_info in aweme_list:\n",
    "                self.video_info_list.append(aweme_info)\n",
    "                self.video_info_dict.setdefault(aweme_info['aweme_id'], aweme_info)\n",
    "                self.videos_list.append(aweme_info['aweme_id'])\n",
    "                #跳过已经收集了的视频\n",
    "                if auto_increase_key > restart:\n",
    "                    #断网15分钟自动终止程序\n",
    "                    self.robust_downloader(id=aweme_info['aweme_id'],account_name=self.account_name)\n",
    "                    auto_increase_key+=1\n",
    "                    pbar.update(1)\n",
    "                else:\n",
    "                    auto_increase_key+=1\n",
    "                    pbar.update(1)           \n",
    "            if int(user_info['has_more']) == 0:\n",
    "                self.stop_flag = True\n",
    "            else:\n",
    "                self.cursor = user_info['max_cursor']\n",
    "                #self.stop_flag = True\n",
    "            sleep_random()\n",
    "        return self.videos_list\n",
    "\n",
    "    #稳健的视频下载方式\n",
    "    def robust_downloader(self,id,account_name,save_folder='D:/save_video'):\n",
    "        information = self.get_video_detail_info(id)\n",
    "        link = self.get_video_detail_info(id)['link']\n",
    "        video = self.get_video_detail_info(id)['is_video']\n",
    "        if video is True:\n",
    "            attempts = 0\n",
    "            #尝试5次，每次间隔3分钟，防止由于间歇性网络问题造成循环终止\n",
    "            while attempts < 5:\n",
    "                try:\n",
    "                    downloader.download_video(account_name=account_name,video_url=link,save_folder=save_folder, file_name=f\"{id}.mp4\")\n",
    "                    break\n",
    "                except Exception as e:\n",
    "                    print(f\"Attempt {attempts + 1} failed: {e}\")\n",
    "                    attempts += 1\n",
    "                    time.sleep(180)\n",
    "                if attempts==5:\n",
    "                    sys.exit()\n",
    "        if video is False:\n",
    "            try:\n",
    "                downloader.download_images(account_name=account_name,image_list=link,save_folder=save_folder, image_dir=id)\n",
    "                time.sleep(60)\n",
    "            except Exception as e:\n",
    "                pass\n",
    "\n",
    "        \n",
    "    #use this download videos if videos are fewer than 200\n",
    "    def download_video(self, video_url: str, file_name: str = None):\n",
    "        \"\"\"\n",
    "        下载视频\n",
    "        :param video_url: 视频地址\n",
    "        :param file_name: 视频保存文件名: 默认为空\n",
    "        :return:\n",
    "        \"\"\"\n",
    "        if not self.is_save:\n",
    "            print(\"当前不需要保存\")\n",
    "            return\n",
    "        save_folder = f\"{self.save_folder}/{self.account_name}\"\n",
    "        if not os.path.exists(save_folder):\n",
    "            os.mkdir(save_folder)\n",
    "        real_file_name = f\"{save_folder}/{file_name}\"\n",
    "        #print(f\"下载url:{video_url}\\n保存文件名:{real_file_name}\")\n",
    "        if os.path.exists(real_file_name):\n",
    "            os.remove(real_file_name)\n",
    "        urllib.request.urlretrieve(video_url, real_file_name)\n",
    "        \n",
    "    def download_images(self,image_list:list,image_dir:str=None):\n",
    "        \"\"\"\n",
    "        下载图片\n",
    "        :param image_list: 图片地址\n",
    "        :param file_name: 图片目录: 默认为空\n",
    "        :return:\n",
    "        \"\"\"\n",
    "        if not self.is_save:\n",
    "            print(\"当前不需要保存\")\n",
    "            return\n",
    "        \n",
    "        parent_folder = f\"{self.save_folder}/{self.account_name}\"\n",
    "        if not os.path.exists(parent_folder):\n",
    "            os.mkdir(parent_folder)\n",
    "        save_folder = f\"{self.save_folder}/{self.account_name}/{image_dir}\"\n",
    "        \n",
    "        print(f\"save-dir:{save_folder}\")\n",
    "        \n",
    "        num=1\n",
    "        if not os.path.exists(save_folder):\n",
    "            os.mkdir(save_folder)\n",
    "        for image_url in image_list:\n",
    "            num+=1\n",
    "            print(f\"image_url:{image_url} {num}\")\n",
    "            real_file_name = f\"{save_folder}/{num}.jpeg\"\n",
    "            print(f\"下载url:{image_url}\\n保存文件名:{real_file_name}\")\n",
    "            if os.path.exists(real_file_name):\n",
    "                os.remove(real_file_name)\n",
    "            urllib.request.urlretrieve(image_url, real_file_name)\n",
    "        \n",
    "    def get_video_detail_info(self, video_id: str):\n",
    "        \"\"\"\n",
    "        获取视频详细信息\n",
    "        :param video_id: 视频id\n",
    "        :return:\n",
    "        \"\"\"\n",
    "        default_response = {\n",
    "            'video_id': video_id,  # 视频id\n",
    "            'link': 'None',  # 视频链接\n",
    "            'is_video': True,  # 是否为视频\n",
    "            'title': 'None',  # 标题\n",
    "            'thumb_up_num': 0,  # 点赞数\n",
    "            'comment_num': 0,  # 评论数\n",
    "            'collect_num': 0, # 收藏数\n",
    "            'share_num': 0, # 分享数\n",
    "            'cover_url': 'http://www.baidu.com',  # 视频封面\n",
    "            'publish_time': '',  # 发布日期\n",
    "            'record_time': '记录日期',  # 更新日期\n",
    "        }\n",
    "        res_info = self.video_info_dict.get(video_id, None)\n",
    "        if res_info is None:\n",
    "            return default_response\n",
    "        default_response['title'] = res_info['desc']\n",
    "        create_time = res_info['create_time']\n",
    "        local_time = time.localtime(create_time)\n",
    "        local_time_str = time.strftime(\"%Y-%m-%d %H:%M:%S\", local_time)\n",
    "        default_response['publish_time'] = local_time_str\n",
    "        default_response['record_time'] = get_current_time_format()\n",
    "        if res_info['images'] is None:\n",
    "            default_response['link'] = res_info[\"video\"][\"play_addr\"][\"url_list\"][0]\n",
    "            default_response['cover_url'] = res_info[\"video\"][\"cover\"][\"url_list\"][0]\n",
    "            default_response['is_video'] = True\n",
    "        else:\n",
    "            default_response['link'] = list(map(lambda x: x[\"url_list\"][-1], res_info[\"images\"]))\n",
    "            default_response['is_video'] = False\n",
    "        default_response['thumb_up_num'] = res_info['statistics']['digg_count']\n",
    "        default_response['comment_num'] = res_info['statistics']['comment_count']\n",
    "        default_response['collect_num'] = res_info['statistics']['collect_count']\n",
    "        default_response['share_num'] = res_info['statistics']['share_count']\n",
    "        return default_response"
   ]
  },
  {
   "cell_type": "code",
   "execution_count": null,
   "id": "b702a510-9470-42c4-86d9-641228c6650c",
   "metadata": {
    "scrolled": true,
    "tags": []
   },
   "outputs": [],
   "source": [
    "#现在视频的meta information， 10分钟内完成下载\n",
    "dy_util = DouYinUtil(sec_uid=USER_SEC_UID)\n",
    "all_video_list = dy_util.get_all_videos()\n",
    "csvVideos =[]\n",
    "for video_id in all_video_list:\n",
    "    video_info = dy_util.get_video_detail_info(video_id)\n",
    "    csvVideos.append(video_info)\n",
    "data = pd.DataFrame(csvVideos)\n",
    "csvHeaders = [\"id\",\"视频链接\",\"是否为视频\",\"标题\",\"点赞数\",\"评论数\",\"收藏数\",\"分享数\",\"视频封面\",\"发布日期\",\"更新日期\"]\n",
    "try:\n",
    "    data.to_csv(CSV_FILE_NAME, header=csvHeaders, index=False, mode='a+', encoding='utf-8')\n",
    "except UnicodeEncodeError:\n",
    "    print(\"编码错误, 该数据无法写到文件中, 直接忽略该数据\")"
   ]
  },
  {
   "cell_type": "code",
   "execution_count": 3,
   "id": "fb271d41-bdce-4d93-b0ac-c0059c45681b",
   "metadata": {},
   "outputs": [
    {
     "name": "stderr",
     "output_type": "stream",
     "text": [
      " 15%|███████████▋                                                                | 252/1637 [05:51<16:41:51, 43.40s/it]"
     ]
    },
    {
     "name": "stdout",
     "output_type": "stream",
     "text": [
      "Attempt 1 failed: <urlopen error retrieval incomplete: got only 2095479 out of 3259324 bytes>\n"
     ]
    },
    {
     "name": "stderr",
     "output_type": "stream",
     "text": [
      " 16%|████████████▏                                                                | 258/1637 [10:37<9:05:51, 23.75s/it]"
     ]
    },
    {
     "name": "stdout",
     "output_type": "stream",
     "text": [
      "Attempt 1 failed: [WinError 10054] 远程主机强迫关闭了一个现有的连接。\n",
      "Attempt 2 failed: [WinError 10054] 远程主机强迫关闭了一个现有的连接。\n"
     ]
    },
    {
     "name": "stderr",
     "output_type": "stream",
     "text": [
      " 16%|███████████▉                                                               | 260/1637 [19:44<48:47:20, 127.55s/it]"
     ]
    },
    {
     "name": "stdout",
     "output_type": "stream",
     "text": [
      "Attempt 1 failed: [WinError 10054] 远程主机强迫关闭了一个现有的连接。\n"
     ]
    },
    {
     "name": "stderr",
     "output_type": "stream",
     "text": [
      " 40%|██████████████████████████████▋                                              | 652/1637 [1:08:50<57:12,  3.48s/it]"
     ]
    },
    {
     "name": "stdout",
     "output_type": "stream",
     "text": [
      "Attempt 1 failed: HTTP Error 504: Gateway Time-out\n"
     ]
    },
    {
     "name": "stderr",
     "output_type": "stream",
     "text": [
      " 43%|████████████████████████████████▏                                          | 703/1637 [1:17:50<2:04:23,  7.99s/it]"
     ]
    },
    {
     "name": "stdout",
     "output_type": "stream",
     "text": [
      "Attempt 1 failed: [WinError 10054] 远程主机强迫关闭了一个现有的连接。\n"
     ]
    },
    {
     "name": "stderr",
     "output_type": "stream",
     "text": [
      " 58%|████████████████████████████████████████████▎                                | 942/1637 [1:44:12<44:58,  3.88s/it]"
     ]
    },
    {
     "name": "stdout",
     "output_type": "stream",
     "text": [
      "Attempt 1 failed: HTTP Error 424: Failed Dependency\n"
     ]
    },
    {
     "name": "stderr",
     "output_type": "stream",
     "text": [
      " 69%|████████████████████████████████████████████████████▋                       | 1134/1637 [2:04:13<44:39,  5.33s/it]"
     ]
    },
    {
     "name": "stdout",
     "output_type": "stream",
     "text": [
      "Attempt 1 failed: <urlopen error retrieval incomplete: got only 1046917 out of 1964733 bytes>\n"
     ]
    },
    {
     "name": "stderr",
     "output_type": "stream",
     "text": [
      " 77%|██████████████████████████████████████████████████████████▊                 | 1268/1637 [2:17:11<18:39,  3.03s/it]"
     ]
    },
    {
     "name": "stdout",
     "output_type": "stream",
     "text": [
      "Attempt 1 failed: [WinError 10054] 远程主机强迫关闭了一个现有的连接。\n"
     ]
    },
    {
     "name": "stderr",
     "output_type": "stream",
     "text": [
      "100%|███████████████████████████████████████████████████████████████████████████▉| 1635/1637 [2:47:50<00:12,  6.16s/it]\n"
     ]
    }
   ],
   "source": [
    "#下载视频\n",
    "dy_util = DouYinUtil(sec_uid=USER_SEC_UID)\n",
    "# 第一个参数是从第几个视频开始下载，第二个参数是视频总数\n",
    "all_video_list = dy_util.get_all_videos_withdownload(217,1637)"
   ]
  },
  {
   "cell_type": "code",
   "execution_count": null,
   "id": "0844993c-f060-4d72-9f3b-d12052b1e66c",
   "metadata": {},
   "outputs": [],
   "source": []
  }
 ],
 "metadata": {
  "kernelspec": {
   "display_name": "Python 3 (ipykernel)",
   "language": "python",
   "name": "python3"
  },
  "language_info": {
   "codemirror_mode": {
    "name": "ipython",
    "version": 3
   },
   "file_extension": ".py",
   "mimetype": "text/x-python",
   "name": "python",
   "nbconvert_exporter": "python",
   "pygments_lexer": "ipython3",
   "version": "3.12.3"
  }
 },
 "nbformat": 4,
 "nbformat_minor": 5
}
